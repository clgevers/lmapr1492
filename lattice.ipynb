{
 "cells": [
  {
   "cell_type": "code",
   "execution_count": 1,
   "metadata": {},
   "outputs": [
    {
     "name": "stdout",
     "output_type": "stream",
     "text": [
      "Vecteurs de bases du réseau cristallin: \n",
      "2.875900 -0.000388 3.808489\n",
      "1.276151 2.577254 3.808489\n",
      "-0.000625 -0.000388 4.772356\n",
      "Vecteurs de bases du réseau réciproque: \n",
      "2.184364 -1.081900 0.000198\n",
      "0.000066 2.437612 0.000198\n",
      "-1.743243 -1.081900 1.316263\n",
      "Type de maille: \n",
      "rhombohedral\n",
      "Système cristallin: \n",
      "trigonal\n",
      "Groupe ponctuel: \n",
      "-3m\n"
     ]
    }
   ],
   "source": [
    "from pymatgen.ext.matproj import MPRester\n",
    "from pymatgen.io.cif import CifWriter\n",
    "from pymatgen.symmetry.analyzer import SpacegroupAnalyzer\n",
    "with MPRester(\"ZarSSb6qGcklK3b9WT\") as m:\n",
    "\n",
    "    # Structure for material id\n",
    "    structure = m.get_structure_by_material_id(\"mp-24199\")\n",
    "    #Création du cif\n",
    "    w = CifWriter(structure)\n",
    "    w.write_file('LiHF2_mp-24199_symmetrized')\n",
    "    \n",
    "    print('Vecteurs de bases du réseau cristallin: ')\n",
    "    Reseau_crist = structure.lattice\n",
    "    print(Reseau_crist)\n",
    "    \n",
    "    print('Vecteurs de bases du réseau réciproque: ')\n",
    "    Reseau_recip = Reseau_crist.reciprocal_lattice\n",
    "    print(Reseau_recip)\n",
    "    \n",
    "    struct = SpacegroupAnalyzer(structure)\n",
    "    \n",
    "    print('Type de maille: ')\n",
    "    Type_maille = struct.get_lattice_type()\n",
    "    print(Type_maille)\n",
    "    \n",
    "    print('Système cristallin: ')\n",
    "    Systeme_crist = struct.get_crystal_system()\n",
    "    print(Systeme_crist)\n",
    "    \n",
    "    print('Groupe ponctuel: ')\n",
    "    Groupe_ponct = struct.get_point_group_symbol()\n",
    "    print(Groupe_ponct)"
   ]
  },
  {
   "cell_type": "code",
   "execution_count": null,
   "metadata": {},
   "outputs": [],
   "source": []
  },
  {
   "cell_type": "code",
   "execution_count": null,
   "metadata": {},
   "outputs": [],
   "source": []
  }
 ],
 "metadata": {
  "kernelspec": {
   "display_name": "Python 3",
   "language": "python",
   "name": "python3"
  },
  "language_info": {
   "codemirror_mode": {
    "name": "ipython",
    "version": 3
   },
   "file_extension": ".py",
   "mimetype": "text/x-python",
   "name": "python",
   "nbconvert_exporter": "python",
   "pygments_lexer": "ipython3",
   "version": "3.6.8"
  }
 },
 "nbformat": 4,
 "nbformat_minor": 2
}
